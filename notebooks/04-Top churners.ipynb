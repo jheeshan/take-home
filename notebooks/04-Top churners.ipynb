{
 "cells": [
  {
   "cell_type": "code",
   "execution_count": 1,
   "metadata": {},
   "outputs": [],
   "source": [
    "import pathlib\n",
    "\n",
    "import numpy as np\n",
    "import pandas as pd\n",
    "import matplotlib.pyplot as plt\n",
    "import seaborn as sns"
   ]
  },
  {
   "cell_type": "code",
   "execution_count": 2,
   "metadata": {},
   "outputs": [],
   "source": [
    "#set paths for file navigation\n",
    "BASE_DIR = pathlib.Path().resolve().parent\n",
    "DATA_DIR = BASE_DIR / 'data'"
   ]
  },
  {
   "cell_type": "code",
   "execution_count": 3,
   "metadata": {},
   "outputs": [],
   "source": [
    "top_churn = DATA_DIR / 'processed/Top churners.csv' #dataset containing numbers for churn\n",
    "org_details = DATA_DIR / 'processed/non-zero earners.csv' #dataset containing details for paying orgs"
   ]
  },
  {
   "cell_type": "code",
   "execution_count": 4,
   "metadata": {},
   "outputs": [
    {
     "data": {
      "text/html": [
       "<div>\n",
       "<style scoped>\n",
       "    .dataframe tbody tr th:only-of-type {\n",
       "        vertical-align: middle;\n",
       "    }\n",
       "\n",
       "    .dataframe tbody tr th {\n",
       "        vertical-align: top;\n",
       "    }\n",
       "\n",
       "    .dataframe thead th {\n",
       "        text-align: right;\n",
       "    }\n",
       "</style>\n",
       "<table border=\"1\" class=\"dataframe\">\n",
       "  <thead>\n",
       "    <tr style=\"text-align: right;\">\n",
       "      <th></th>\n",
       "      <th>organization_id</th>\n",
       "      <th>times_churned</th>\n",
       "      <th>times_reactivated</th>\n",
       "      <th>times_retained</th>\n",
       "      <th>revenue</th>\n",
       "    </tr>\n",
       "  </thead>\n",
       "  <tbody>\n",
       "    <tr>\n",
       "      <th>0</th>\n",
       "      <td>4155886</td>\n",
       "      <td>5</td>\n",
       "      <td>5</td>\n",
       "      <td>0</td>\n",
       "      <td>50.0</td>\n",
       "    </tr>\n",
       "    <tr>\n",
       "      <th>1</th>\n",
       "      <td>4337488</td>\n",
       "      <td>4</td>\n",
       "      <td>3</td>\n",
       "      <td>0</td>\n",
       "      <td>30.0</td>\n",
       "    </tr>\n",
       "    <tr>\n",
       "      <th>2</th>\n",
       "      <td>4026795</td>\n",
       "      <td>4</td>\n",
       "      <td>4</td>\n",
       "      <td>4</td>\n",
       "      <td>1110.0</td>\n",
       "    </tr>\n",
       "    <tr>\n",
       "      <th>3</th>\n",
       "      <td>4235917</td>\n",
       "      <td>3</td>\n",
       "      <td>2</td>\n",
       "      <td>1</td>\n",
       "      <td>29.0</td>\n",
       "    </tr>\n",
       "    <tr>\n",
       "      <th>4</th>\n",
       "      <td>4364720</td>\n",
       "      <td>3</td>\n",
       "      <td>2</td>\n",
       "      <td>2</td>\n",
       "      <td>80.0</td>\n",
       "    </tr>\n",
       "  </tbody>\n",
       "</table>\n",
       "</div>"
      ],
      "text/plain": [
       "   organization_id  times_churned  times_reactivated  times_retained  revenue\n",
       "0          4155886              5                  5               0     50.0\n",
       "1          4337488              4                  3               0     30.0\n",
       "2          4026795              4                  4               4   1110.0\n",
       "3          4235917              3                  2               1     29.0\n",
       "4          4364720              3                  2               2     80.0"
      ]
     },
     "execution_count": 4,
     "metadata": {},
     "output_type": "execute_result"
    }
   ],
   "source": [
    "df_top_churn = pd.read_csv(top_churn)\n",
    "df_top_churn.head(5)"
   ]
  },
  {
   "cell_type": "code",
   "execution_count": 5,
   "metadata": {},
   "outputs": [],
   "source": [
    "#get all the categorical variables\n",
    "cat_vars = [var for var in df_top_churn.columns if df_top_churn[var].dtype == 'O']\n",
    "\n",
    "#we have to add org_id and org_owner_id as they are also categorical\n",
    "cat_vars = cat_vars + ['organization_id']\n",
    "\n",
    "#cast all categorical variables to dtype object\n",
    "df_top_churn[cat_vars] = df_top_churn[cat_vars].astype('O')"
   ]
  },
  {
   "cell_type": "code",
   "execution_count": 6,
   "metadata": {},
   "outputs": [
    {
     "data": {
      "text/html": [
       "<div>\n",
       "<style scoped>\n",
       "    .dataframe tbody tr th:only-of-type {\n",
       "        vertical-align: middle;\n",
       "    }\n",
       "\n",
       "    .dataframe tbody tr th {\n",
       "        vertical-align: top;\n",
       "    }\n",
       "\n",
       "    .dataframe thead th {\n",
       "        text-align: right;\n",
       "    }\n",
       "</style>\n",
       "<table border=\"1\" class=\"dataframe\">\n",
       "  <thead>\n",
       "    <tr style=\"text-align: right;\">\n",
       "      <th></th>\n",
       "      <th>times_churned</th>\n",
       "      <th>times_reactivated</th>\n",
       "      <th>times_retained</th>\n",
       "      <th>revenue</th>\n",
       "    </tr>\n",
       "  </thead>\n",
       "  <tbody>\n",
       "    <tr>\n",
       "      <th>count</th>\n",
       "      <td>25166.000000</td>\n",
       "      <td>25166.000000</td>\n",
       "      <td>25166.000000</td>\n",
       "      <td>25166.000000</td>\n",
       "    </tr>\n",
       "    <tr>\n",
       "      <th>mean</th>\n",
       "      <td>0.268378</td>\n",
       "      <td>0.038703</td>\n",
       "      <td>8.202535</td>\n",
       "      <td>544.532238</td>\n",
       "    </tr>\n",
       "    <tr>\n",
       "      <th>std</th>\n",
       "      <td>0.455506</td>\n",
       "      <td>0.205846</td>\n",
       "      <td>4.473134</td>\n",
       "      <td>1544.805694</td>\n",
       "    </tr>\n",
       "    <tr>\n",
       "      <th>min</th>\n",
       "      <td>0.000000</td>\n",
       "      <td>0.000000</td>\n",
       "      <td>0.000000</td>\n",
       "      <td>0.000000</td>\n",
       "    </tr>\n",
       "    <tr>\n",
       "      <th>25%</th>\n",
       "      <td>0.000000</td>\n",
       "      <td>0.000000</td>\n",
       "      <td>4.000000</td>\n",
       "      <td>72.000000</td>\n",
       "    </tr>\n",
       "    <tr>\n",
       "      <th>50%</th>\n",
       "      <td>0.000000</td>\n",
       "      <td>0.000000</td>\n",
       "      <td>11.000000</td>\n",
       "      <td>120.000000</td>\n",
       "    </tr>\n",
       "    <tr>\n",
       "      <th>75%</th>\n",
       "      <td>1.000000</td>\n",
       "      <td>0.000000</td>\n",
       "      <td>12.000000</td>\n",
       "      <td>495.000000</td>\n",
       "    </tr>\n",
       "    <tr>\n",
       "      <th>max</th>\n",
       "      <td>5.000000</td>\n",
       "      <td>5.000000</td>\n",
       "      <td>12.000000</td>\n",
       "      <td>79612.900000</td>\n",
       "    </tr>\n",
       "  </tbody>\n",
       "</table>\n",
       "</div>"
      ],
      "text/plain": [
       "       times_churned  times_reactivated  times_retained       revenue\n",
       "count   25166.000000       25166.000000    25166.000000  25166.000000\n",
       "mean        0.268378           0.038703        8.202535    544.532238\n",
       "std         0.455506           0.205846        4.473134   1544.805694\n",
       "min         0.000000           0.000000        0.000000      0.000000\n",
       "25%         0.000000           0.000000        4.000000     72.000000\n",
       "50%         0.000000           0.000000       11.000000    120.000000\n",
       "75%         1.000000           0.000000       12.000000    495.000000\n",
       "max         5.000000           5.000000       12.000000  79612.900000"
      ]
     },
     "execution_count": 6,
     "metadata": {},
     "output_type": "execute_result"
    }
   ],
   "source": [
    "df_top_churn.describe()"
   ]
  },
  {
   "cell_type": "markdown",
   "metadata": {},
   "source": [
    "I see an outlier in terms of revenue, which brings up an interesting point. Why would a organization who seemingly likes the product churn multiple times? Let's get a list of these orgs."
   ]
  },
  {
   "cell_type": "code",
   "execution_count": 7,
   "metadata": {},
   "outputs": [],
   "source": [
    "#filter for orgs which churned twice or more\n",
    "df_frequent_churners = df_top_churn[df_top_churn['times_churned'] >= 2]"
   ]
  },
  {
   "cell_type": "code",
   "execution_count": 8,
   "metadata": {},
   "outputs": [
    {
     "data": {
      "text/html": [
       "<div>\n",
       "<style scoped>\n",
       "    .dataframe tbody tr th:only-of-type {\n",
       "        vertical-align: middle;\n",
       "    }\n",
       "\n",
       "    .dataframe tbody tr th {\n",
       "        vertical-align: top;\n",
       "    }\n",
       "\n",
       "    .dataframe thead th {\n",
       "        text-align: right;\n",
       "    }\n",
       "</style>\n",
       "<table border=\"1\" class=\"dataframe\">\n",
       "  <thead>\n",
       "    <tr style=\"text-align: right;\">\n",
       "      <th></th>\n",
       "      <th>times_churned</th>\n",
       "      <th>times_reactivated</th>\n",
       "      <th>times_retained</th>\n",
       "      <th>revenue</th>\n",
       "    </tr>\n",
       "  </thead>\n",
       "  <tbody>\n",
       "    <tr>\n",
       "      <th>count</th>\n",
       "      <td>109.000000</td>\n",
       "      <td>109.000000</td>\n",
       "      <td>109.000000</td>\n",
       "      <td>109.000000</td>\n",
       "    </tr>\n",
       "    <tr>\n",
       "      <th>mean</th>\n",
       "      <td>2.119266</td>\n",
       "      <td>1.357798</td>\n",
       "      <td>4.183486</td>\n",
       "      <td>252.651376</td>\n",
       "    </tr>\n",
       "    <tr>\n",
       "      <th>std</th>\n",
       "      <td>0.445653</td>\n",
       "      <td>0.687493</td>\n",
       "      <td>2.867975</td>\n",
       "      <td>375.524498</td>\n",
       "    </tr>\n",
       "    <tr>\n",
       "      <th>min</th>\n",
       "      <td>2.000000</td>\n",
       "      <td>1.000000</td>\n",
       "      <td>0.000000</td>\n",
       "      <td>10.000000</td>\n",
       "    </tr>\n",
       "    <tr>\n",
       "      <th>25%</th>\n",
       "      <td>2.000000</td>\n",
       "      <td>1.000000</td>\n",
       "      <td>2.000000</td>\n",
       "      <td>50.000000</td>\n",
       "    </tr>\n",
       "    <tr>\n",
       "      <th>50%</th>\n",
       "      <td>2.000000</td>\n",
       "      <td>1.000000</td>\n",
       "      <td>4.000000</td>\n",
       "      <td>80.000000</td>\n",
       "    </tr>\n",
       "    <tr>\n",
       "      <th>75%</th>\n",
       "      <td>2.000000</td>\n",
       "      <td>2.000000</td>\n",
       "      <td>6.000000</td>\n",
       "      <td>307.200000</td>\n",
       "    </tr>\n",
       "    <tr>\n",
       "      <th>max</th>\n",
       "      <td>5.000000</td>\n",
       "      <td>5.000000</td>\n",
       "      <td>9.000000</td>\n",
       "      <td>2052.000000</td>\n",
       "    </tr>\n",
       "  </tbody>\n",
       "</table>\n",
       "</div>"
      ],
      "text/plain": [
       "       times_churned  times_reactivated  times_retained      revenue\n",
       "count     109.000000         109.000000      109.000000   109.000000\n",
       "mean        2.119266           1.357798        4.183486   252.651376\n",
       "std         0.445653           0.687493        2.867975   375.524498\n",
       "min         2.000000           1.000000        0.000000    10.000000\n",
       "25%         2.000000           1.000000        2.000000    50.000000\n",
       "50%         2.000000           1.000000        4.000000    80.000000\n",
       "75%         2.000000           2.000000        6.000000   307.200000\n",
       "max         5.000000           5.000000        9.000000  2052.000000"
      ]
     },
     "execution_count": 8,
     "metadata": {},
     "output_type": "execute_result"
    }
   ],
   "source": [
    "df_frequent_churners.describe()"
   ]
  },
  {
   "cell_type": "code",
   "execution_count": 9,
   "metadata": {},
   "outputs": [
    {
     "data": {
      "text/html": [
       "<div>\n",
       "<style scoped>\n",
       "    .dataframe tbody tr th:only-of-type {\n",
       "        vertical-align: middle;\n",
       "    }\n",
       "\n",
       "    .dataframe tbody tr th {\n",
       "        vertical-align: top;\n",
       "    }\n",
       "\n",
       "    .dataframe thead th {\n",
       "        text-align: right;\n",
       "    }\n",
       "</style>\n",
       "<table border=\"1\" class=\"dataframe\">\n",
       "  <thead>\n",
       "    <tr style=\"text-align: right;\">\n",
       "      <th></th>\n",
       "      <th>organization_id</th>\n",
       "      <th>times_churned</th>\n",
       "      <th>times_reactivated</th>\n",
       "      <th>times_retained</th>\n",
       "      <th>revenue</th>\n",
       "    </tr>\n",
       "  </thead>\n",
       "  <tbody>\n",
       "    <tr>\n",
       "      <th>85</th>\n",
       "      <td>29046</td>\n",
       "      <td>2</td>\n",
       "      <td>1</td>\n",
       "      <td>8</td>\n",
       "      <td>2052.0</td>\n",
       "    </tr>\n",
       "    <tr>\n",
       "      <th>84</th>\n",
       "      <td>4194749</td>\n",
       "      <td>2</td>\n",
       "      <td>1</td>\n",
       "      <td>9</td>\n",
       "      <td>1850.0</td>\n",
       "    </tr>\n",
       "    <tr>\n",
       "      <th>78</th>\n",
       "      <td>4579431</td>\n",
       "      <td>2</td>\n",
       "      <td>1</td>\n",
       "      <td>7</td>\n",
       "      <td>1660.0</td>\n",
       "    </tr>\n",
       "    <tr>\n",
       "      <th>2</th>\n",
       "      <td>4026795</td>\n",
       "      <td>4</td>\n",
       "      <td>4</td>\n",
       "      <td>4</td>\n",
       "      <td>1110.0</td>\n",
       "    </tr>\n",
       "    <tr>\n",
       "      <th>106</th>\n",
       "      <td>4399724</td>\n",
       "      <td>2</td>\n",
       "      <td>2</td>\n",
       "      <td>1</td>\n",
       "      <td>1083.0</td>\n",
       "    </tr>\n",
       "    <tr>\n",
       "      <th>...</th>\n",
       "      <td>...</td>\n",
       "      <td>...</td>\n",
       "      <td>...</td>\n",
       "      <td>...</td>\n",
       "      <td>...</td>\n",
       "    </tr>\n",
       "    <tr>\n",
       "      <th>62</th>\n",
       "      <td>4715335</td>\n",
       "      <td>2</td>\n",
       "      <td>1</td>\n",
       "      <td>0</td>\n",
       "      <td>20.0</td>\n",
       "    </tr>\n",
       "    <tr>\n",
       "      <th>47</th>\n",
       "      <td>4069950</td>\n",
       "      <td>2</td>\n",
       "      <td>1</td>\n",
       "      <td>0</td>\n",
       "      <td>10.0</td>\n",
       "    </tr>\n",
       "    <tr>\n",
       "      <th>38</th>\n",
       "      <td>4860453</td>\n",
       "      <td>2</td>\n",
       "      <td>1</td>\n",
       "      <td>0</td>\n",
       "      <td>10.0</td>\n",
       "    </tr>\n",
       "    <tr>\n",
       "      <th>36</th>\n",
       "      <td>4009156</td>\n",
       "      <td>2</td>\n",
       "      <td>1</td>\n",
       "      <td>0</td>\n",
       "      <td>10.0</td>\n",
       "    </tr>\n",
       "    <tr>\n",
       "      <th>53</th>\n",
       "      <td>4461254</td>\n",
       "      <td>2</td>\n",
       "      <td>1</td>\n",
       "      <td>0</td>\n",
       "      <td>10.0</td>\n",
       "    </tr>\n",
       "  </tbody>\n",
       "</table>\n",
       "<p>109 rows × 5 columns</p>\n",
       "</div>"
      ],
      "text/plain": [
       "    organization_id  times_churned  times_reactivated  times_retained  revenue\n",
       "85            29046              2                  1               8   2052.0\n",
       "84          4194749              2                  1               9   1850.0\n",
       "78          4579431              2                  1               7   1660.0\n",
       "2           4026795              4                  4               4   1110.0\n",
       "106         4399724              2                  2               1   1083.0\n",
       "..              ...            ...                ...             ...      ...\n",
       "62          4715335              2                  1               0     20.0\n",
       "47          4069950              2                  1               0     10.0\n",
       "38          4860453              2                  1               0     10.0\n",
       "36          4009156              2                  1               0     10.0\n",
       "53          4461254              2                  1               0     10.0\n",
       "\n",
       "[109 rows x 5 columns]"
      ]
     },
     "execution_count": 9,
     "metadata": {},
     "output_type": "execute_result"
    }
   ],
   "source": [
    "#view orgs which have high revenue\n",
    "df_frequent_churners.sort_values('revenue', ascending=False)"
   ]
  },
  {
   "cell_type": "code",
   "execution_count": 10,
   "metadata": {},
   "outputs": [],
   "source": [
    "sns.set_theme(style='darkgrid', palette='colorblind')"
   ]
  },
  {
   "cell_type": "code",
   "execution_count": 11,
   "metadata": {},
   "outputs": [
    {
     "data": {
      "text/plain": [
       "<AxesSubplot:xlabel='times_churned', ylabel='revenue'>"
      ]
     },
     "execution_count": 11,
     "metadata": {},
     "output_type": "execute_result"
    },
    {
     "data": {
      "image/png": "[encoded data removed]",
      "text/plain": [
       "<Figure size 1440x720 with 1 Axes>"
      ]
     },
     "metadata": {},
     "output_type": "display_data"
    }
   ],
   "source": [
    "plt.figure(figsize=(20,10))\n",
    "sns.scatterplot(data=df_frequent_churners, x='times_churned', y='revenue')"
   ]
  },
  {
   "cell_type": "code",
   "execution_count": 12,
   "metadata": {},
   "outputs": [],
   "source": [
    "#get list of orgs who churned frequently and had high revenue, save it for later analysis\n",
    "df_churn_orgs_interest = df_frequent_churners[(df_frequent_churners['times_churned'] >= 2) & (df_frequent_churners['revenue'] > 300)].sort_values('revenue', ascending=False)"
   ]
  },
  {
   "cell_type": "markdown",
   "metadata": {},
   "source": [
    "Now let's explore these organizations! Maybe we can find a pattern or common characteristic that could help us with churn."
   ]
  },
  {
   "cell_type": "code",
   "execution_count": 13,
   "metadata": {},
   "outputs": [
    {
     "data": {
      "text/html": [
       "<div>\n",
       "<style scoped>\n",
       "    .dataframe tbody tr th:only-of-type {\n",
       "        vertical-align: middle;\n",
       "    }\n",
       "\n",
       "    .dataframe tbody tr th {\n",
       "        vertical-align: top;\n",
       "    }\n",
       "\n",
       "    .dataframe thead th {\n",
       "        text-align: right;\n",
       "    }\n",
       "</style>\n",
       "<table border=\"1\" class=\"dataframe\">\n",
       "  <thead>\n",
       "    <tr style=\"text-align: right;\">\n",
       "      <th></th>\n",
       "      <th>organization_id</th>\n",
       "      <th>times_churned</th>\n",
       "      <th>times_reactivated</th>\n",
       "      <th>times_retained</th>\n",
       "      <th>revenue</th>\n",
       "      <th>organization_owner_id</th>\n",
       "      <th>total_revenue_2021</th>\n",
       "      <th>revenue_realized_to_date_usd</th>\n",
       "      <th>time_entries_count</th>\n",
       "      <th>billable_time_entries_count</th>\n",
       "      <th>...</th>\n",
       "      <th>billable_hours_tracked</th>\n",
       "      <th>clients_used</th>\n",
       "      <th>projects_used</th>\n",
       "      <th>billable_projects_used</th>\n",
       "      <th>country</th>\n",
       "      <th>industry</th>\n",
       "      <th>company_type</th>\n",
       "      <th>approximate_employees</th>\n",
       "      <th>reported_annual_revenue</th>\n",
       "      <th>_merge</th>\n",
       "    </tr>\n",
       "  </thead>\n",
       "  <tbody>\n",
       "    <tr>\n",
       "      <th>9</th>\n",
       "      <td>2584442</td>\n",
       "      <td>2</td>\n",
       "      <td>2</td>\n",
       "      <td>8</td>\n",
       "      <td>760.0</td>\n",
       "      <td>NaN</td>\n",
       "      <td>NaN</td>\n",
       "      <td>NaN</td>\n",
       "      <td>NaN</td>\n",
       "      <td>NaN</td>\n",
       "      <td>...</td>\n",
       "      <td>NaN</td>\n",
       "      <td>NaN</td>\n",
       "      <td>NaN</td>\n",
       "      <td>NaN</td>\n",
       "      <td>NaN</td>\n",
       "      <td>NaN</td>\n",
       "      <td>NaN</td>\n",
       "      <td>NaN</td>\n",
       "      <td>NaN</td>\n",
       "      <td>left_only</td>\n",
       "    </tr>\n",
       "    <tr>\n",
       "      <th>21</th>\n",
       "      <td>4040055</td>\n",
       "      <td>2</td>\n",
       "      <td>1</td>\n",
       "      <td>6</td>\n",
       "      <td>400.0</td>\n",
       "      <td>NaN</td>\n",
       "      <td>NaN</td>\n",
       "      <td>NaN</td>\n",
       "      <td>NaN</td>\n",
       "      <td>NaN</td>\n",
       "      <td>...</td>\n",
       "      <td>NaN</td>\n",
       "      <td>NaN</td>\n",
       "      <td>NaN</td>\n",
       "      <td>NaN</td>\n",
       "      <td>NaN</td>\n",
       "      <td>NaN</td>\n",
       "      <td>NaN</td>\n",
       "      <td>NaN</td>\n",
       "      <td>NaN</td>\n",
       "      <td>left_only</td>\n",
       "    </tr>\n",
       "  </tbody>\n",
       "</table>\n",
       "<p>2 rows × 21 columns</p>\n",
       "</div>"
      ],
      "text/plain": [
       "   organization_id  times_churned  times_reactivated  times_retained  revenue  \\\n",
       "9          2584442              2                  2               8    760.0   \n",
       "21         4040055              2                  1               6    400.0   \n",
       "\n",
       "    organization_owner_id  total_revenue_2021  revenue_realized_to_date_usd  \\\n",
       "9                     NaN                 NaN                           NaN   \n",
       "21                    NaN                 NaN                           NaN   \n",
       "\n",
       "    time_entries_count  billable_time_entries_count  ...  \\\n",
       "9                  NaN                          NaN  ...   \n",
       "21                 NaN                          NaN  ...   \n",
       "\n",
       "    billable_hours_tracked  clients_used  projects_used  \\\n",
       "9                      NaN           NaN            NaN   \n",
       "21                     NaN           NaN            NaN   \n",
       "\n",
       "    billable_projects_used  country industry company_type  \\\n",
       "9                      NaN      NaN      NaN          NaN   \n",
       "21                     NaN      NaN      NaN          NaN   \n",
       "\n",
       "   approximate_employees  reported_annual_revenue     _merge  \n",
       "9                    NaN                      NaN  left_only  \n",
       "21                   NaN                      NaN  left_only  \n",
       "\n",
       "[2 rows x 21 columns]"
      ]
     },
     "execution_count": 13,
     "metadata": {},
     "output_type": "execute_result"
    }
   ],
   "source": [
    "#read in dataset containing org details\n",
    "df_orgs = pd.read_csv(org_details)\n",
    "\n",
    "#filter to obtain details of the organizations of interest\n",
    "df_churn_orgs_interest_details = (\n",
    "    df_churn_orgs_interest.merge(df_orgs, \n",
    "              on=['organization_id'],        #join on organization_id\n",
    "              how='left',                    #left join to check if any org details are missing\n",
    "              indicator=True)\n",
    ")\n",
    "\n",
    "df_churn_orgs_interest_details.query('_merge == \"left_only\"')"
   ]
  },
  {
   "cell_type": "code",
   "execution_count": 14,
   "metadata": {},
   "outputs": [
    {
     "data": {
      "text/html": [
       "<div>\n",
       "<style scoped>\n",
       "    .dataframe tbody tr th:only-of-type {\n",
       "        vertical-align: middle;\n",
       "    }\n",
       "\n",
       "    .dataframe tbody tr th {\n",
       "        vertical-align: top;\n",
       "    }\n",
       "\n",
       "    .dataframe thead th {\n",
       "        text-align: right;\n",
       "    }\n",
       "</style>\n",
       "<table border=\"1\" class=\"dataframe\">\n",
       "  <thead>\n",
       "    <tr style=\"text-align: right;\">\n",
       "      <th></th>\n",
       "      <th>organization_id</th>\n",
       "      <th>times_churned</th>\n",
       "      <th>times_reactivated</th>\n",
       "      <th>times_retained</th>\n",
       "      <th>revenue</th>\n",
       "      <th>organization_owner_id</th>\n",
       "      <th>total_revenue_2021</th>\n",
       "      <th>revenue_realized_to_date_usd</th>\n",
       "      <th>time_entries_count</th>\n",
       "      <th>billable_time_entries_count</th>\n",
       "      <th>...</th>\n",
       "      <th>billable_hours_tracked</th>\n",
       "      <th>clients_used</th>\n",
       "      <th>projects_used</th>\n",
       "      <th>billable_projects_used</th>\n",
       "      <th>country</th>\n",
       "      <th>industry</th>\n",
       "      <th>company_type</th>\n",
       "      <th>approximate_employees</th>\n",
       "      <th>reported_annual_revenue</th>\n",
       "      <th>_merge</th>\n",
       "    </tr>\n",
       "  </thead>\n",
       "  <tbody>\n",
       "    <tr>\n",
       "      <th>0</th>\n",
       "      <td>29046</td>\n",
       "      <td>2</td>\n",
       "      <td>1</td>\n",
       "      <td>8</td>\n",
       "      <td>2052.0</td>\n",
       "      <td>5876597.0</td>\n",
       "      <td>2052.0</td>\n",
       "      <td>3168.0</td>\n",
       "      <td>17225.0</td>\n",
       "      <td>10572.0</td>\n",
       "      <td>...</td>\n",
       "      <td>10342.437500</td>\n",
       "      <td>92.0</td>\n",
       "      <td>312.0</td>\n",
       "      <td>305.0</td>\n",
       "      <td>United States</td>\n",
       "      <td>Internet Software &amp; Services</td>\n",
       "      <td>public</td>\n",
       "      <td>865406.0</td>\n",
       "      <td>3.860640e+11</td>\n",
       "      <td>both</td>\n",
       "    </tr>\n",
       "    <tr>\n",
       "      <th>1</th>\n",
       "      <td>4194749</td>\n",
       "      <td>2</td>\n",
       "      <td>1</td>\n",
       "      <td>9</td>\n",
       "      <td>1850.0</td>\n",
       "      <td>1625595.0</td>\n",
       "      <td>1850.0</td>\n",
       "      <td>7686.0</td>\n",
       "      <td>119556.0</td>\n",
       "      <td>94382.0</td>\n",
       "      <td>...</td>\n",
       "      <td>74868.274167</td>\n",
       "      <td>351.0</td>\n",
       "      <td>4446.0</td>\n",
       "      <td>4427.0</td>\n",
       "      <td>Poland</td>\n",
       "      <td>Media</td>\n",
       "      <td>private</td>\n",
       "      <td>30.0</td>\n",
       "      <td>NaN</td>\n",
       "      <td>both</td>\n",
       "    </tr>\n",
       "    <tr>\n",
       "      <th>2</th>\n",
       "      <td>4579431</td>\n",
       "      <td>2</td>\n",
       "      <td>1</td>\n",
       "      <td>7</td>\n",
       "      <td>1660.0</td>\n",
       "      <td>6064941.0</td>\n",
       "      <td>1660.0</td>\n",
       "      <td>1900.0</td>\n",
       "      <td>2396.0</td>\n",
       "      <td>2141.0</td>\n",
       "      <td>...</td>\n",
       "      <td>4882.580833</td>\n",
       "      <td>1.0</td>\n",
       "      <td>38.0</td>\n",
       "      <td>31.0</td>\n",
       "      <td>United States</td>\n",
       "      <td>NaN</td>\n",
       "      <td>private</td>\n",
       "      <td>10.0</td>\n",
       "      <td>NaN</td>\n",
       "      <td>both</td>\n",
       "    </tr>\n",
       "    <tr>\n",
       "      <th>3</th>\n",
       "      <td>4026795</td>\n",
       "      <td>4</td>\n",
       "      <td>4</td>\n",
       "      <td>4</td>\n",
       "      <td>1110.0</td>\n",
       "      <td>4483851.0</td>\n",
       "      <td>1110.0</td>\n",
       "      <td>3240.0</td>\n",
       "      <td>13606.0</td>\n",
       "      <td>13109.0</td>\n",
       "      <td>...</td>\n",
       "      <td>15085.404444</td>\n",
       "      <td>2.0</td>\n",
       "      <td>17.0</td>\n",
       "      <td>17.0</td>\n",
       "      <td>Georgia</td>\n",
       "      <td>NaN</td>\n",
       "      <td>NaN</td>\n",
       "      <td>NaN</td>\n",
       "      <td>NaN</td>\n",
       "      <td>both</td>\n",
       "    </tr>\n",
       "    <tr>\n",
       "      <th>4</th>\n",
       "      <td>4399724</td>\n",
       "      <td>2</td>\n",
       "      <td>2</td>\n",
       "      <td>1</td>\n",
       "      <td>1083.0</td>\n",
       "      <td>4999831.0</td>\n",
       "      <td>1083.0</td>\n",
       "      <td>1273.0</td>\n",
       "      <td>12508.0</td>\n",
       "      <td>3673.0</td>\n",
       "      <td>...</td>\n",
       "      <td>1999.409444</td>\n",
       "      <td>398.0</td>\n",
       "      <td>488.0</td>\n",
       "      <td>262.0</td>\n",
       "      <td>United States</td>\n",
       "      <td>Internet Software &amp; Services</td>\n",
       "      <td>private</td>\n",
       "      <td>420.0</td>\n",
       "      <td>NaN</td>\n",
       "      <td>both</td>\n",
       "    </tr>\n",
       "  </tbody>\n",
       "</table>\n",
       "<p>5 rows × 21 columns</p>\n",
       "</div>"
      ],
      "text/plain": [
       "  organization_id  times_churned  times_reactivated  times_retained  revenue  \\\n",
       "0           29046              2                  1               8   2052.0   \n",
       "1         4194749              2                  1               9   1850.0   \n",
       "2         4579431              2                  1               7   1660.0   \n",
       "3         4026795              4                  4               4   1110.0   \n",
       "4         4399724              2                  2               1   1083.0   \n",
       "\n",
       "   organization_owner_id  total_revenue_2021  revenue_realized_to_date_usd  \\\n",
       "0              5876597.0              2052.0                        3168.0   \n",
       "1              1625595.0              1850.0                        7686.0   \n",
       "2              6064941.0              1660.0                        1900.0   \n",
       "3              4483851.0              1110.0                        3240.0   \n",
       "4              4999831.0              1083.0                        1273.0   \n",
       "\n",
       "   time_entries_count  billable_time_entries_count  ...  \\\n",
       "0             17225.0                      10572.0  ...   \n",
       "1            119556.0                      94382.0  ...   \n",
       "2              2396.0                       2141.0  ...   \n",
       "3             13606.0                      13109.0  ...   \n",
       "4             12508.0                       3673.0  ...   \n",
       "\n",
       "   billable_hours_tracked  clients_used  projects_used  \\\n",
       "0            10342.437500          92.0          312.0   \n",
       "1            74868.274167         351.0         4446.0   \n",
       "2             4882.580833           1.0           38.0   \n",
       "3            15085.404444           2.0           17.0   \n",
       "4             1999.409444         398.0          488.0   \n",
       "\n",
       "   billable_projects_used        country                      industry  \\\n",
       "0                   305.0  United States  Internet Software & Services   \n",
       "1                  4427.0         Poland                         Media   \n",
       "2                    31.0  United States                           NaN   \n",
       "3                    17.0        Georgia                           NaN   \n",
       "4                   262.0  United States  Internet Software & Services   \n",
       "\n",
       "  company_type approximate_employees  reported_annual_revenue  _merge  \n",
       "0       public              865406.0             3.860640e+11    both  \n",
       "1      private                  30.0                      NaN    both  \n",
       "2      private                  10.0                      NaN    both  \n",
       "3          NaN                   NaN                      NaN    both  \n",
       "4      private                 420.0                      NaN    both  \n",
       "\n",
       "[5 rows x 21 columns]"
      ]
     },
     "execution_count": 14,
     "metadata": {},
     "output_type": "execute_result"
    }
   ],
   "source": [
    "df_churn_orgs_interest_details.head(5)"
   ]
  },
  {
   "cell_type": "code",
   "execution_count": 15,
   "metadata": {},
   "outputs": [
    {
     "data": {
      "text/plain": [
       "Text(0, 0.5, 'Count')"
      ]
     },
     "execution_count": 15,
     "metadata": {},
     "output_type": "execute_result"
    },
    {
     "data": {
      "image/png": "[encoded data removed]",
      "text/plain": [
       "<Figure size 2160x360 with 1 Axes>"
      ]
     },
     "metadata": {},
     "output_type": "display_data"
    }
   ],
   "source": [
    "plt.figure(figsize=(30,5))\n",
    "fig = df_churn_orgs_interest_details['country'].value_counts(dropna=False).plot(kind='bar')\n",
    "fig.bar_label(fig.containers[0])\n",
    "plt.title('Number of organizations in top churners of interest, by country')\n",
    "plt.xlabel('Country')\n",
    "plt.xticks(rotation=45)\n",
    "plt.ylabel('Count')"
   ]
  },
  {
   "cell_type": "code",
   "execution_count": 16,
   "metadata": {},
   "outputs": [
    {
     "data": {
      "text/plain": [
       "Text(0, 0.5, 'Count')"
      ]
     },
     "execution_count": 16,
     "metadata": {},
     "output_type": "execute_result"
    },
    {
     "data": {
      "image/png": "[encoded data removed]",
      "text/plain": [
       "<Figure size 2160x360 with 1 Axes>"
      ]
     },
     "metadata": {},
     "output_type": "display_data"
    }
   ],
   "source": [
    "plt.figure(figsize=(30,5))\n",
    "fig = df_churn_orgs_interest_details['industry'].value_counts(dropna=False).plot(kind='bar')\n",
    "fig.bar_label(fig.containers[0])\n",
    "plt.title('Number of organizations in top churners of interest, by industry')\n",
    "plt.xlabel('Industry')\n",
    "plt.xticks(rotation=45)\n",
    "plt.ylabel('Count')"
   ]
  },
  {
   "cell_type": "code",
   "execution_count": 17,
   "metadata": {},
   "outputs": [
    {
     "data": {
      "text/plain": [
       "Text(0, 0.5, 'Count')"
      ]
     },
     "execution_count": 17,
     "metadata": {},
     "output_type": "execute_result"
    },
    {
     "data": {
      "image/png": "[encoded data removed]",
      "text/plain": [
       "<Figure size 1800x720 with 1 Axes>"
      ]
     },
     "metadata": {},
     "output_type": "display_data"
    }
   ],
   "source": [
    "plt.figure(figsize=(25,10))\n",
    "fig = df_churn_orgs_interest_details['clients_used'].plot(kind='hist')\n",
    "plt.title('Distribution of clients used by top churners')\n",
    "plt.xlabel('Clients used')\n",
    "plt.ylabel('Count')"
   ]
  },
  {
   "cell_type": "code",
   "execution_count": 18,
   "metadata": {},
   "outputs": [
    {
     "data": {
      "text/plain": [
       "Text(0, 0.5, 'Count')"
      ]
     },
     "execution_count": 18,
     "metadata": {},
     "output_type": "execute_result"
    },
    {
     "data": {
      "image/png": "[encoded data removed]",
      "text/plain": [
       "<Figure size 1800x720 with 1 Axes>"
      ]
     },
     "metadata": {},
     "output_type": "display_data"
    }
   ],
   "source": [
    "plt.figure(figsize=(25,10))\n",
    "fig = df_churn_orgs_interest_details['projects_used'].plot(kind='hist')\n",
    "plt.title('Distribution of projects used by top churners')\n",
    "plt.xlabel('Projects used')\n",
    "plt.ylabel('Count')"
   ]
  },
  {
   "cell_type": "markdown",
   "metadata": {},
   "source": [
    "Create a few columns for percentage of billable hours/entries. I want to see if it is the case that high churners are not finding much use out of the service."
   ]
  },
  {
   "cell_type": "code",
   "execution_count": 19,
   "metadata": {},
   "outputs": [],
   "source": [
    "df_churn_orgs_interest_details['pct_billable_time_entries'] = df_churn_orgs_interest_details['billable_time_entries_count']/df_churn_orgs_interest_details['time_entries_count']\n",
    "df_churn_orgs_interest_details['pct_billable_hours_tracked'] = df_churn_orgs_interest_details['billable_hours_tracked']/df_churn_orgs_interest_details['hours_tracked']\n",
    "df_churn_orgs_interest_details['pct_billable_projects_used'] = df_churn_orgs_interest_details['billable_projects_used']/df_churn_orgs_interest_details['projects_used']"
   ]
  },
  {
   "cell_type": "code",
   "execution_count": 20,
   "metadata": {},
   "outputs": [
    {
     "data": {
      "text/plain": [
       "Text(0, 0.5, 'Count')"
      ]
     },
     "execution_count": 20,
     "metadata": {},
     "output_type": "execute_result"
    },
    {
     "data": {
      "image/png": "[encoded data removed]",
      "text/plain": [
       "<Figure size 1800x720 with 1 Axes>"
      ]
     },
     "metadata": {},
     "output_type": "display_data"
    }
   ],
   "source": [
    "plt.figure(figsize=(25,10))\n",
    "fig = df_churn_orgs_interest_details['pct_billable_time_entries'].plot(kind='hist')\n",
    "plt.title('Distribution of the proportion of billable time entries by top churners')\n",
    "plt.xlabel('Billable time entries')\n",
    "plt.ylabel('Count')"
   ]
  },
  {
   "cell_type": "code",
   "execution_count": 21,
   "metadata": {},
   "outputs": [
    {
     "data": {
      "text/plain": [
       "Text(0, 0.5, 'Count')"
      ]
     },
     "execution_count": 21,
     "metadata": {},
     "output_type": "execute_result"
    },
    {
     "data": {
      "image/png": "[encoded data removed]",
      "text/plain": [
       "<Figure size 1800x720 with 1 Axes>"
      ]
     },
     "metadata": {},
     "output_type": "display_data"
    }
   ],
   "source": [
    "plt.figure(figsize=(25,10))\n",
    "fig = df_churn_orgs_interest_details['pct_billable_hours_tracked'].plot(kind='hist')\n",
    "plt.title('Distribution of the proportion of billable hours tracked by top churners')\n",
    "plt.xlabel('Billable hours tracked')\n",
    "plt.ylabel('Count')"
   ]
  },
  {
   "cell_type": "code",
   "execution_count": 22,
   "metadata": {},
   "outputs": [
    {
     "data": {
      "text/plain": [
       "Text(0, 0.5, 'Count')"
      ]
     },
     "execution_count": 22,
     "metadata": {},
     "output_type": "execute_result"
    },
    {
     "data": {
      "image/png": "[encoded data removed]",
      "text/plain": [
       "<Figure size 1800x720 with 1 Axes>"
      ]
     },
     "metadata": {},
     "output_type": "display_data"
    }
   ],
   "source": [
    "plt.figure(figsize=(25,10))\n",
    "fig = df_churn_orgs_interest_details['pct_billable_projects_used'].plot(kind='hist')\n",
    "plt.title('Distribution of the proportion of billable projects tracked by top churners')\n",
    "plt.xlabel('Billable projects tracked')\n",
    "plt.ylabel('Count')"
   ]
  }
 ],
 "metadata": {
  "interpreter": {
   "hash": "cc37469a09b389441f11e19580c0ae98c37dc5f3603da1cf4c6e276368cc0dcc"
  },
  "kernelspec": {
   "display_name": "Python 3.9.12 ('basic_ds')",
   "language": "python",
   "name": "python3"
  },
  "language_info": {
   "codemirror_mode": {
    "name": "ipython",
    "version": 3
   },
   "file_extension": ".py",
   "mimetype": "text/x-python",
   "name": "python",
   "nbconvert_exporter": "python",
   "pygments_lexer": "ipython3",
   "version": "3.10.4"
  },
  "orig_nbformat": 4
 },
 "nbformat": 4,
 "nbformat_minor": 2
}
